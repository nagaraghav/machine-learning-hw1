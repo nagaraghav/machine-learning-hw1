{
 "cells": [
  {
   "cell_type": "code",
   "execution_count": 33,
   "metadata": {},
   "outputs": [],
   "source": [
    "import numpy as np\n",
    "import pandas as  pd \n",
    "import matplotlib.pyplot as plt\n",
    "import import_ipynb\n",
    "import Part3\n",
    "from sklearn.preprocessing import MinMaxScaler"
   ]
  },
  {
   "cell_type": "code",
   "execution_count": null,
   "metadata": {},
   "outputs": [],
   "source": []
  },
  {
   "cell_type": "code",
   "execution_count": 19,
   "metadata": {},
   "outputs": [],
   "source": [
    "#Part 4\n",
    "df = pd.read_table(\"auto-mpg.data\" , header = None,sep='\\s+' , names= \n",
    "    [\"mpg\" ,\"cylinders\", \"displacement\", \"horsepower\",\"weight\",\n",
    "                    \"accelaration\",\"model_year\",\"origin\",\"car_name\"])\n",
    "#remove incomplete data\n",
    "df = df[df.horsepower != '?']\n",
    "df = df.sample(frac=1).reset_index(drop=True)"
   ]
  },
  {
   "cell_type": "code",
   "execution_count": 20,
   "metadata": {},
   "outputs": [],
   "source": [
    "Y_mpg = df['mpg'].values\n",
    "Y_mpg = Y_mpg.reshape(392,1)\n",
    "\n",
    "Y_mpg_train = Y_mpg[0:292]\n",
    "Y_mpg_test = Y_mpg[292:392]"
   ]
  },
  {
   "cell_type": "code",
   "execution_count": 21,
   "metadata": {},
   "outputs": [],
   "source": [
    "df = df.drop(['mpg', 'car_name'], axis=1) # (392, 7)\n"
   ]
  },
  {
   "cell_type": "code",
   "execution_count": 23,
   "metadata": {},
   "outputs": [],
   "source": [
    "labels = df.columns # (7,)\n"
   ]
  },
  {
   "cell_type": "code",
   "execution_count": 24,
   "metadata": {},
   "outputs": [
    {
     "data": {
      "text/plain": [
       "(392, 7)"
      ]
     },
     "execution_count": 24,
     "metadata": {},
     "output_type": "execute_result"
    }
   ],
   "source": [
    "X = df.values # (392, 7)\n",
    "X = X.astype('float64')\n",
    "X.shape"
   ]
  },
  {
   "cell_type": "code",
   "execution_count": 25,
   "metadata": {},
   "outputs": [],
   "source": [
    "#create poly_X\n",
    "bias = np.full((392,1),1)\n",
    "X_squared = X**2\n"
   ]
  },
  {
   "cell_type": "code",
   "execution_count": 27,
   "metadata": {},
   "outputs": [
    {
     "name": "stdout",
     "output_type": "stream",
     "text": [
      "MSE Order 0 Training: 62.66369440795646 Testing: 55.697724770125724\n"
     ]
    }
   ],
   "source": [
    "poly_X0_train = bias[0:292]\n",
    "poly_X0_test = bias[292:392]\n",
    "\n",
    "theta0 = Part3.ols_modified(poly_X0_train, Y_mpg_train)\n",
    "predicted_outputs0_train = np.dot(poly_X0_train, theta0)\n",
    "predicted_outputs0_test = np.dot(poly_X0_test, theta0)\n",
    "mse0_train = Part3.MSE(predicted_outputs0_train, Y_mpg_train)\n",
    "mse0_test = Part3.MSE(predicted_outputs0_test, Y_mpg_test)\n",
    "mse0_train, mse0_test\n",
    "\n",
    "print(\"MSE Order 0 Training: \" + str(mse0_train) + \" Testing: \" + str(mse0_test))\n"
   ]
  },
  {
   "cell_type": "code",
   "execution_count": 9,
   "metadata": {},
   "outputs": [
    {
     "name": "stdout",
     "output_type": "stream",
     "text": [
      "MSE Order 1 Training: 11.706025597264109Testing: 8.900090532241807\n"
     ]
    }
   ],
   "source": [
    "poly_X_Or1 = np.concatenate((bias, X), axis=1)\n",
    "poly_X1_train = poly_X_Or1[0:292] #(292, 8)\n",
    "poly_X1_test = poly_X_Or1[292:392] # (100, 8)\n",
    "\n",
    "theta1 = Part3.ols_modified(poly_X1_train, Y_mpg_train)\n",
    "predicted_outputs1_train = np.dot(poly_X1_train, theta1)\n",
    "predicted_outputs1_test = np.dot(poly_X1_test, theta1)\n",
    "mse1_train = Part3.MSE(predicted_outputs1_train, Y_mpg_train)\n",
    "mse1_test = Part3.MSE(predicted_outputs1_test, Y_mpg_test)\n",
    "mse1_train, mse1_test\n",
    "\n",
    "print(\"MSE Order 1 Training: \" + str(mse1_train) + \" Testing: \" + str(mse1_test))\n",
    "\n"
   ]
  },
  {
   "cell_type": "code",
   "execution_count": 10,
   "metadata": {},
   "outputs": [
    {
     "name": "stdout",
     "output_type": "stream",
     "text": [
      "MSE Order 2 Training: 9.045409569363379Testing: 6.4086271807724335\n"
     ]
    }
   ],
   "source": [
    "\n",
    "poly_X_Or2 = np.concatenate((poly_X_Or1, X_squared), axis=1)\n",
    "\n",
    "poly_X2_train = poly_X_Or2[0:292] #(292, 15)\n",
    "poly_X2_test = poly_X_Or2[292:392]\n",
    "\n",
    "theta2 = Part3.ols_modified(poly_X2_train, Y_mpg_train)\n",
    "predicted_outputs2_train = np.dot(poly_X2_train, theta2)\n",
    "predicted_outputs2_test = np.dot(poly_X2_test, theta2)\n",
    "mse2_train = Part3.MSE(predicted_outputs2_train, Y_mpg_train)\n",
    "mse2_test = Part3.MSE(predicted_outputs2_test, Y_mpg_test)\n",
    "mse2_train, mse2_test\n",
    "\n",
    "\n",
    "print(\"MSE Order 2 Training: \" + str(mse2_train) + \" Testing: \" + str(mse2_test))\n",
    "\n",
    "\n"
   ]
  },
  {
   "cell_type": "code",
   "execution_count": 43,
   "metadata": {},
   "outputs": [
    {
     "name": "stdout",
     "output_type": "stream",
     "text": [
      "MSE Order 2 Training W Normalization : 0.04370611150757158 Testing: 0.062447536684333935\n"
     ]
    }
   ],
   "source": [
    "#Part7\n",
    "\n",
    "\n",
    "# WITH Normailization\n",
    "scaler = MinMaxScaler()\n",
    "scaler.fit(poly_X2_train)\n",
    "poly_X2_train_reg = scaler.transform(poly_X2_train)\n",
    "scaler.fit(poly_X2_test)\n",
    "poly_X2_test_reg = scaler.transform(poly_X2_test)\n",
    "scaler.fit(Y_mpg_train)\n",
    "Y_mpg_train_reg = scaler.transform(Y_mpg_train)\n",
    "scaler.fit(Y_mpg_test)\n",
    "Y_mpg_test_reg = scaler.transform(Y_mpg_test)\n",
    "\n",
    "\n",
    "theta2_reg = Part3.ols_modified(poly_X2_train_reg, Y_mpg_train_reg)\n",
    "\n",
    "predicted_outputs2_train_reg = np.dot(poly_X2_train_reg, theta2_reg)\n",
    "predicted_outputs2_test_reg = np.dot(poly_X2_test_reg, theta2_reg)\n",
    "\n",
    "mse2_train_reg = Part3.MSE(predicted_outputs2_train_reg, Y_mpg_train_reg)\n",
    "mse2_test_reg = Part3.MSE(predicted_outputs2_test_reg, Y_mpg_test_reg)\n",
    "\n",
    "\n",
    "print(\"MSE Order 2 Training W Normalization : \" + str(mse2_train_reg) + \" Testing: \" + str(mse2_test_reg))\n",
    "\n"
   ]
  },
  {
   "cell_type": "code",
   "execution_count": 11,
   "metadata": {},
   "outputs": [
    {
     "name": "stdout",
     "output_type": "stream",
     "text": [
      "Part 8: The MPG value predicted is 20.84423677671065\n"
     ]
    }
   ],
   "source": [
    "#PART 8 - Multi-Variable Polynomial Second Order \n",
    "\n",
    "\n",
    "theta8 = Part3.ols_modified(poly_X_Or2, Y_mpg)\n",
    "\n",
    "X_part8 = np.array([4,400,150,3500,8.0,81,1])\n",
    "X_part8 = np.concatenate((X_part8,X_part8**2), axis=0)\n",
    "bias1 = np.array([1])\n",
    "X_part8 = np.concatenate((bias1, X_part8), axis=0).reshape(15,1)\n",
    "mpg8 = np.dot(X_part8.T,theta8)\n",
    "print(\"Part 8: The MPG value predicted is \" + str(mpg8[0,0]))"
   ]
  },
  {
   "cell_type": "code",
   "execution_count": null,
   "metadata": {},
   "outputs": [],
   "source": []
  },
  {
   "cell_type": "code",
   "execution_count": null,
   "metadata": {},
   "outputs": [],
   "source": []
  },
  {
   "cell_type": "code",
   "execution_count": null,
   "metadata": {},
   "outputs": [],
   "source": []
  },
  {
   "cell_type": "code",
   "execution_count": null,
   "metadata": {},
   "outputs": [],
   "source": []
  }
 ],
 "metadata": {
  "kernelspec": {
   "display_name": "Python 3",
   "language": "python",
   "name": "python3"
  },
  "language_info": {
   "codemirror_mode": {
    "name": "ipython",
    "version": 3
   },
   "file_extension": ".py",
   "mimetype": "text/x-python",
   "name": "python",
   "nbconvert_exporter": "python",
   "pygments_lexer": "ipython3",
   "version": "3.7.4"
  }
 },
 "nbformat": 4,
 "nbformat_minor": 2
}
