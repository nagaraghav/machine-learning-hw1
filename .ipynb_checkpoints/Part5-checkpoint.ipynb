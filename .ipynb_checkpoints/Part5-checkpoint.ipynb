{
 "cells": [
  {
   "cell_type": "code",
   "execution_count": 1,
   "metadata": {},
   "outputs": [
    {
     "name": "stdout",
     "output_type": "stream",
     "text": [
      "importing Jupyter notebook from Part3.ipynb\n"
     ]
    }
   ],
   "source": [
    "import numpy as np\n",
    "import pandas as  pd \n",
    "import matplotlib.pyplot as plt\n",
    "import import_ipynb\n",
    "import Part3"
   ]
  },
  {
   "cell_type": "code",
   "execution_count": null,
   "metadata": {},
   "outputs": [],
   "source": []
  },
  {
   "cell_type": "code",
   "execution_count": 2,
   "metadata": {},
   "outputs": [],
   "source": [
    "#Part 4\n",
    "df = pd.read_table(\"auto-mpg.data\" , header = None,sep='\\s+' , names= \n",
    "    [\"mpg\" ,\"cylinders\", \"displacement\", \"horsepower\",\"weight\",\n",
    "                    \"accelaration\",\"model_year\",\"origin\",\"car_name\"])\n",
    "#remove incomplete data\n",
    "df = df[df.horsepower != '?']\n",
    "df = df.sample(frac=1).reset_index(drop=True)"
   ]
  },
  {
   "cell_type": "code",
   "execution_count": 3,
   "metadata": {},
   "outputs": [],
   "source": [
    "Y_mpg = df['mpg'].values\n",
    "Y_mpg = Y_mpg.reshape(392,1)\n",
    "\n",
    "Y_mpg_train = Y_mpg[0:292]\n",
    "Y_mpg_test = Y_mpg[292:392]"
   ]
  },
  {
   "cell_type": "code",
   "execution_count": 4,
   "metadata": {},
   "outputs": [],
   "source": [
    "df = df.drop(['mpg', 'car_name'], axis=1) # (392, 7)\n",
    "#df"
   ]
  },
  {
   "cell_type": "code",
   "execution_count": 5,
   "metadata": {},
   "outputs": [],
   "source": [
    "labels = df.columns # (7,)"
   ]
  },
  {
   "cell_type": "code",
   "execution_count": 6,
   "metadata": {},
   "outputs": [
    {
     "data": {
      "text/plain": [
       "(392, 7)"
      ]
     },
     "execution_count": 6,
     "metadata": {},
     "output_type": "execute_result"
    }
   ],
   "source": [
    "X = df.values # (392, 7)\n",
    "X = X.astype('float64')\n",
    "X.shape"
   ]
  },
  {
   "cell_type": "code",
   "execution_count": 7,
   "metadata": {},
   "outputs": [],
   "source": [
    "#create poly_X\n",
    "bias = np.full((392,1),1)\n",
    "X_squared = X**2\n"
   ]
  },
  {
   "cell_type": "code",
   "execution_count": 16,
   "metadata": {},
   "outputs": [
    {
     "data": {
      "text/plain": [
       "(58.38429208106587, 68.18995997372866)"
      ]
     },
     "execution_count": 16,
     "metadata": {},
     "output_type": "execute_result"
    }
   ],
   "source": [
    "poly_X0_train = bias[0:292]\n",
    "poly_X0_test = bias[292:392]\n",
    "\n",
    "theta0 = Part3.ols_modified(poly_X0_train, Y_mpg_train)\n",
    "predicted_outputs0_train = np.dot(poly_X0_train, theta0)\n",
    "predicted_outputs0_test = np.dot(poly_X0_test, theta0)\n",
    "mse0_train = Part3.MSE(predicted_outputs0_train, Y_mpg_train)\n",
    "mse0_test = Part3.MSE(predicted_outputs0_test, Y_mpg_test)\n",
    "mse0_train, mse0_test"
   ]
  },
  {
   "cell_type": "code",
   "execution_count": 17,
   "metadata": {},
   "outputs": [
    {
     "data": {
      "text/plain": [
       "(10.474998299955622, 12.39520522588905)"
      ]
     },
     "execution_count": 17,
     "metadata": {},
     "output_type": "execute_result"
    }
   ],
   "source": [
    "poly_X_Or1 = np.concatenate((bias, X), axis=1)\n",
    "poly_X1_train = poly_X_Or1[0:292] #(292, 8)\n",
    "poly_X1_test = poly_X_Or1[292:392] # (100, 8)\n",
    "\n",
    "theta1 = Part3.ols_modified(poly_X1_train, Y_mpg_train)\n",
    "predicted_outputs1_train = np.dot(poly_X1_train, theta1)\n",
    "predicted_outputs1_test = np.dot(poly_X1_test, theta1)\n",
    "mse1_train = Part3.MSE(predicted_outputs1_train, Y_mpg_train)\n",
    "mse1_test = Part3.MSE(predicted_outputs1_test, Y_mpg_test)\n",
    "mse1_train, mse1_test\n"
   ]
  },
  {
   "cell_type": "code",
   "execution_count": 25,
   "metadata": {},
   "outputs": [
    {
     "data": {
      "text/plain": [
       "(7.545252795673281, 10.8993397847804)"
      ]
     },
     "execution_count": 25,
     "metadata": {},
     "output_type": "execute_result"
    }
   ],
   "source": [
    "\n",
    "poly_X_Or2 = np.concatenate((poly_X_Or1, X_squared), axis=1)\n",
    "\n",
    "poly_X2_train = poly_X_Or2[0:292] #(292, 15)\n",
    "poly_X2_test = poly_X_Or2[292:392]\n",
    "\n",
    "theta2 = Part3.ols_modified(poly_X2_train, Y_mpg_train)\n",
    "predicted_outputs2_train = np.dot(poly_X2_train, theta2)\n",
    "predicted_outputs2_test = np.dot(poly_X2_test, theta2)\n",
    "mse2_train = Part3.MSE(predicted_outputs2_train, Y_mpg_train)\n",
    "mse2_test = Part3.MSE(predicted_outputs2_test, Y_mpg_test)\n",
    "mse2_train, mse2_test"
   ]
  },
  {
   "cell_type": "code",
   "execution_count": 42,
   "metadata": {},
   "outputs": [
    {
     "name": "stdout",
     "output_type": "stream",
     "text": [
      "Part 8: The MPG value predicted is 19.345032974884578\n"
     ]
    }
   ],
   "source": [
    "#PART 8 - Multi-Variable Polynomial Second Order \n",
    "\n",
    "X_part8 = np.array([4,400,150,3500,8.0,81,1])\n",
    "X_part8 = np.concatenate((X_part8,X_part8**2), axis=0)\n",
    "bias1 = np.array([1])\n",
    "X_part8 = np.concatenate((bias1, X_part8), axis=0).reshape(15,1)\n",
    "mpg8 = np.dot(X_part8.T,theta2)\n",
    "print(\"Part 8: The MPG value predicted is \" + str(mpg8[0,0]))"
   ]
  },
  {
   "cell_type": "code",
   "execution_count": null,
   "metadata": {},
   "outputs": [],
   "source": []
  },
  {
   "cell_type": "code",
   "execution_count": 37,
   "metadata": {},
   "outputs": [],
   "source": []
  },
  {
   "cell_type": "code",
   "execution_count": null,
   "metadata": {},
   "outputs": [],
   "source": []
  },
  {
   "cell_type": "code",
   "execution_count": null,
   "metadata": {},
   "outputs": [],
   "source": []
  }
 ],
 "metadata": {
  "kernelspec": {
   "display_name": "Python 3",
   "language": "python",
   "name": "python3"
  },
  "language_info": {
   "codemirror_mode": {
    "name": "ipython",
    "version": 3
   },
   "file_extension": ".py",
   "mimetype": "text/x-python",
   "name": "python",
   "nbconvert_exporter": "python",
   "pygments_lexer": "ipython3",
   "version": "3.7.4"
  }
 },
 "nbformat": 4,
 "nbformat_minor": 2
}
