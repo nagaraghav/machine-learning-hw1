{
 "cells": [
  {
   "cell_type": "code",
   "execution_count": 1,
   "metadata": {},
   "outputs": [
    {
     "name": "stdout",
     "output_type": "stream",
     "text": [
      "importing Jupyter notebook from Part1.ipynb\n"
     ]
    }
   ],
   "source": [
    "import numpy as np\n",
    "import pandas as  pd \n",
    "import matplotlib.pyplot as plt\n",
    "import import_ipynb\n",
    "from sklearn.linear_model import LogisticRegression\n",
    "from sklearn.metrics import precision_recall_curve\n",
    "from sklearn.metrics import precision_score\n",
    "import import_ipynb\n",
    "import Part1"
   ]
  },
  {
   "cell_type": "code",
   "execution_count": 2,
   "metadata": {},
   "outputs": [],
   "source": [
    "#Part 4\n",
    "df = pd.read_table(\"auto-mpg.data\" , header = None,sep='\\s+' , names= \n",
    "    [\"mpg\" ,\"cylinders\", \"displacement\", \"horsepower\",\"weight\",\n",
    "                    \"accelaration\",\"model_year\",\"origin\",\"car_name\"])\n",
    "#remove incomplete data\n",
    "df = df[df.horsepower != '?']\n",
    "df = df.sample(frac=1).reset_index(drop=True)\n",
    "Y_mpg = df.mpg.values\n",
    "df = df.drop([\"car_name\", \"mpg\"] , axis=1) #392 rows × 7 columns"
   ]
  },
  {
   "cell_type": "code",
   "execution_count": 3,
   "metadata": {},
   "outputs": [],
   "source": [
    "Y_mpg = Y_mpg.reshape(392,1) #(392, 1)) #Needed only for classification\n",
    "#(17.0, 22.75, 29.0, 46.6)"
   ]
  },
  {
   "cell_type": "code",
   "execution_count": 4,
   "metadata": {},
   "outputs": [],
   "source": [
    "color = np.full((392,1), 1)\n",
    "for i in range(392):\n",
    "    if Y_mpg[i] <= Part1.low:\n",
    "        color[i] = 1\n",
    "    if Y_mpg[i] > Part1.low and Y_mpg[i] <= Part1.med:\n",
    "        color[i] = 2\n",
    "    if Y_mpg[i] > Part1.med and Y_mpg[i] <= Part1.high:\n",
    "        color[i] = 3\n",
    "    if Y_mpg[i] > Part1.high:\n",
    "        color[i] = 4\n",
    "#df[\"color\"] = color\n",
    "\n",
    "Y = color\n",
    "Y_train = Y[0:292, 0].reshape(292,1) #(292, 1)\n",
    "Y_test = Y[292:392, 0].reshape(100,1) #(100, 1)\n"
   ]
  },
  {
   "cell_type": "code",
   "execution_count": 5,
   "metadata": {},
   "outputs": [],
   "source": [
    "def precision(Y_test, Y_pred, label):\n",
    "    tp = 0\n",
    "    fp=0\n",
    "    for i in range(Y_pred.shape[0]):\n",
    "        if (Y_pred[i,0] == label and Y_pred[i,0] == Y_test[i,0]):\n",
    "            tp += 1 \n",
    "        if (Y_pred[i,0] == label and Y_pred[i,0] != Y_test[i,0]):\n",
    "            fp += 1\n",
    "    return tp/(tp+fp)"
   ]
  },
  {
   "cell_type": "code",
   "execution_count": 6,
   "metadata": {},
   "outputs": [],
   "source": [
    "X_values = df.values #(392, 7)\n",
    "\n",
    "X_train = X_values[0:292, 0:7] #(292, 7)\n",
    "X_test = X_values[292:392, 0:7] #(100, 7)\n"
   ]
  },
  {
   "cell_type": "code",
   "execution_count": 7,
   "metadata": {},
   "outputs": [],
   "source": [
    "clf = LogisticRegression(random_state= 0 , fit_intercept= True, solver='lbfgs', multi_class='multinomial', max_iter=10000).fit(X_train,Y_train.ravel())\n",
    "#clf.classes_\n"
   ]
  },
  {
   "cell_type": "code",
   "execution_count": 13,
   "metadata": {},
   "outputs": [],
   "source": [
    "results_train = clf.predict(X_train)\n",
    "results_test = clf.predict(X_test)\n",
    "\n",
    "results_train = results_train.reshape(292,1)\n",
    "results_test = results_test.reshape(100,1)"
   ]
  },
  {
   "cell_type": "code",
   "execution_count": 14,
   "metadata": {},
   "outputs": [
    {
     "name": "stdout",
     "output_type": "stream",
     "text": [
      "Training precision for class 1 is 0.9104477611940298\n",
      "Testing precision for class 1 is 0.9104477611940298\n",
      "\n",
      "\n",
      "Training precision for class 2 is 0.726027397260274\n",
      "Testing precision for class 2 is 0.726027397260274\n",
      "\n",
      "\n",
      "Training precision for class 3 is 0.6285714285714286\n",
      "Testing precision for class 3 is 0.6285714285714286\n",
      "\n",
      "\n",
      "Training precision for class 4 is 0.8292682926829268\n",
      "Testing precision for class 4 is 0.8292682926829268\n",
      "\n",
      "\n"
     ]
    }
   ],
   "source": [
    "for i in range(1,5,1):\n",
    "    p = precision(Y_train,results_train,i)\n",
    "    print(\"Training precision for class \" + str(i) +  \" is \" + str(p) )\n",
    "    p2 = precision(Y_test,results_test,i)\n",
    "    print(\"Testing precision for class \" + str(i) +  \" is \" + str(p) )\n",
    "    print(\"\\n\")"
   ]
  },
  {
   "cell_type": "code",
   "execution_count": 15,
   "metadata": {},
   "outputs": [
    {
     "name": "stdout",
     "output_type": "stream",
     "text": [
      "Training set accuracy: 0.773972602739726\n",
      "Test set accuracy: 0.76\n"
     ]
    }
   ],
   "source": [
    "clf_train_acc = clf.score(X_train, Y_train)\n",
    "clf_test_acc = clf.score(X_test, Y_test)\n",
    "print(\"Training set accuracy: \" + str(clf_train_acc))\n",
    "print(\"Test set accuracy: \" + str(clf_test_acc))\n"
   ]
  },
  {
   "cell_type": "code",
   "execution_count": 16,
   "metadata": {},
   "outputs": [
    {
     "data": {
      "text/plain": [
       "(292, 7)"
      ]
     },
     "execution_count": 16,
     "metadata": {},
     "output_type": "execute_result"
    }
   ],
   "source": [
    "#PART 8\n",
    "\n",
    "X_part8 = np.array([[4,400,150,3500,8.0,81,1]])\n",
    "\n",
    "\n",
    "X_part8.shape\n",
    "X_train.shape"
   ]
  },
  {
   "cell_type": "code",
   "execution_count": 17,
   "metadata": {},
   "outputs": [
    {
     "data": {
      "text/plain": [
       "array([2])"
      ]
     },
     "execution_count": 17,
     "metadata": {},
     "output_type": "execute_result"
    }
   ],
   "source": [
    "Y_pred_Part8 = clf.predict(X_part8)\n",
    "Y_pred_Part8 # MEDIUM LEVEL"
   ]
  },
  {
   "cell_type": "code",
   "execution_count": null,
   "metadata": {},
   "outputs": [],
   "source": []
  },
  {
   "cell_type": "code",
   "execution_count": null,
   "metadata": {},
   "outputs": [],
   "source": []
  },
  {
   "cell_type": "code",
   "execution_count": null,
   "metadata": {},
   "outputs": [],
   "source": []
  }
 ],
 "metadata": {
  "kernelspec": {
   "display_name": "Python 3",
   "language": "python",
   "name": "python3"
  },
  "language_info": {
   "codemirror_mode": {
    "name": "ipython",
    "version": 3
   },
   "file_extension": ".py",
   "mimetype": "text/x-python",
   "name": "python",
   "nbconvert_exporter": "python",
   "pygments_lexer": "ipython3",
   "version": "3.7.4"
  }
 },
 "nbformat": 4,
 "nbformat_minor": 2
}
