{
 "cells": [
  {
   "cell_type": "code",
   "execution_count": 1,
   "metadata": {},
   "outputs": [],
   "source": [
    "import numpy as np\n",
    "import pandas as  pd \n",
    "import matplotlib.pyplot as plt"
   ]
  },
  {
   "cell_type": "code",
   "execution_count": 2,
   "metadata": {},
   "outputs": [],
   "source": [
    "df = pd.read_table(\"auto-mpg.data\" , header = None,sep='\\s+' , names= \n",
    "    [\"mpg\" ,\"cylinders\", \"displacement\", \"horsepower\",\"weight\",\n",
    "                    \"accelaration\",\"model_year\",\"origin\",\"car_name\"])\n",
    "#remove incomplete data\n",
    "df = df[df.horsepower != '?']\n",
    "df = df.sort_values('mpg', ascending=True)\n",
    "df = df.drop(['car_name'], axis = 1)\n",
    "df = df.astype(\"float64\")"
   ]
  },
  {
   "cell_type": "code",
   "execution_count": 3,
   "metadata": {
    "scrolled": true
   },
   "outputs": [],
   "source": [
    "low = df.mpg.quantile(.25)\n",
    "med = df.mpg.quantile(.50)\n",
    "high = df.mpg.quantile(.75)\n",
    "veryHigh = df.mpg.quantile(1)"
   ]
  },
  {
   "cell_type": "code",
   "execution_count": 4,
   "metadata": {},
   "outputs": [
    {
     "data": {
      "text/plain": [
       "(17.0, 22.75, 29.0, 46.6)"
      ]
     },
     "execution_count": 4,
     "metadata": {},
     "output_type": "execute_result"
    }
   ],
   "source": [
    "low, med, high, veryHigh"
   ]
  },
  {
   "cell_type": "code",
   "execution_count": 5,
   "metadata": {},
   "outputs": [],
   "source": [
    "Y = df.mpg\n",
    "Y = Y.values.reshape(392,1)"
   ]
  },
  {
   "cell_type": "code",
   "execution_count": 6,
   "metadata": {},
   "outputs": [
    {
     "data": {
      "text/plain": [
       "mpg             float64\n",
       "cylinders       float64\n",
       "displacement    float64\n",
       "horsepower      float64\n",
       "weight          float64\n",
       "accelaration    float64\n",
       "model_year      float64\n",
       "origin          float64\n",
       "dtype: object"
      ]
     },
     "execution_count": 6,
     "metadata": {},
     "output_type": "execute_result"
    }
   ],
   "source": [
    "df.dtypes"
   ]
  },
  {
   "cell_type": "code",
   "execution_count": 7,
   "metadata": {},
   "outputs": [],
   "source": [
    "color = np.full((392,1), \"very high\")\n",
    "for i in range(392):\n",
    "    if Y[i] <= low:\n",
    "        color[i] = \"low\"\n",
    "    if Y[i] > low and Y[i] <= med:\n",
    "        color[i] = \"medium\"\n",
    "    if Y[i] > med and Y[i] <= high:\n",
    "        color[i] = \"high\"\n",
    "    if Y[i] > high:\n",
    "        color[i] = \"very high\"\n",
    "df[\"color\"] = color "
   ]
  },
  {
   "cell_type": "code",
   "execution_count": 8,
   "metadata": {},
   "outputs": [],
   "source": [
    "dfc = df\n",
    "\n",
    "dfc = dfc.drop(['mpg'], axis=1)"
   ]
  },
  {
   "cell_type": "code",
   "execution_count": 9,
   "metadata": {
    "scrolled": true
   },
   "outputs": [
    {
     "data": {
      "text/plain": [
       "high         101\n",
       "low           99\n",
       "medium        97\n",
       "very high     95\n",
       "Name: color, dtype: int64"
      ]
     },
     "execution_count": 9,
     "metadata": {},
     "output_type": "execute_result"
    }
   ],
   "source": [
    "df[\"color\"].value_counts()"
   ]
  },
  {
   "cell_type": "code",
   "execution_count": null,
   "metadata": {},
   "outputs": [],
   "source": []
  },
  {
   "cell_type": "code",
   "execution_count": null,
   "metadata": {
    "scrolled": true
   },
   "outputs": [],
   "source": []
  },
  {
   "cell_type": "code",
   "execution_count": null,
   "metadata": {},
   "outputs": [],
   "source": []
  },
  {
   "cell_type": "code",
   "execution_count": null,
   "metadata": {},
   "outputs": [],
   "source": []
  },
  {
   "cell_type": "code",
   "execution_count": null,
   "metadata": {},
   "outputs": [],
   "source": []
  }
 ],
 "metadata": {
  "kernelspec": {
   "display_name": "Python 3",
   "language": "python",
   "name": "python3"
  },
  "language_info": {
   "codemirror_mode": {
    "name": "ipython",
    "version": 3
   },
   "file_extension": ".py",
   "mimetype": "text/x-python",
   "name": "python",
   "nbconvert_exporter": "python",
   "pygments_lexer": "ipython3",
   "version": "3.7.4"
  }
 },
 "nbformat": 4,
 "nbformat_minor": 2
}
